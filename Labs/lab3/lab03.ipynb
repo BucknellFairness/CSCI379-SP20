{
 "cells": [
  {
   "cell_type": "markdown",
   "metadata": {},
   "source": [
    "# Lab 03, Feb 4 2020.\n",
    "### Due Feb 11, 2020, before lab.\n",
    "### COMPAS Risk Score Analysis - Part II"
   ]
  },
  {
   "cell_type": "markdown",
   "metadata": {},
   "source": [
    "In this lab, you will continue auditing the the COMPAS Risk Algorithm for notions of fairness. \n",
    "\n",
    "Refer to the [Problem Set: Criminal justice case study](https://fairmlbook.org/classification.html#problem-set-criminal-justice-case-study) in the \"Fairness in ML\" book. \n",
    "Also, feel free to consult the [notebook on the Adult Data Set](https://fairmlbook.org/code/adult.html) referred to in the text."
   ]
  },
  {
   "cell_type": "markdown",
   "metadata": {},
   "source": [
    "### Getting Started\n",
    "To get started, like last time create a `lab03` folder in your local repo alongwith a `data` folder. In the data folder, place the data file we will be using, which was obtained by ProPublica as a result of a public records request from Broward County, Florida. The csv file can be downloaded from [here](https://raw.githubusercontent.com/propublica/compas-analysis/master/compas-scores-two-years.csv). Place it in your `data` folder for `lab03`. \n",
    "\n"
   ]
  },
  {
   "cell_type": "code",
   "execution_count": 3,
   "metadata": {},
   "outputs": [],
   "source": [
    "%matplotlib inline\n",
    "\n",
    "import pandas as pd\n",
    "import pylab\n",
    "import numpy as np\n",
    "import seaborn as sns\n",
    "\n",
    "import pylab\n",
    "import numpy as np\n",
    "import matplotlib.pyplot as plt"
   ]
  },
  {
   "cell_type": "markdown",
   "metadata": {},
   "source": [
    "Loading the data"
   ]
  },
  {
   "cell_type": "code",
   "execution_count": 4,
   "metadata": {},
   "outputs": [],
   "source": [
    "\n",
    "data = pd.read_csv('data/compas-scores-two-years.csv', index_col=0)"
   ]
  },
  {
   "cell_type": "markdown",
   "metadata": {},
   "source": [
    "Now we will filter out rows where **days_b_screening_arrest** is over 30 or under -30, leaving us with 6,172 rows. "
   ]
  },
  {
   "cell_type": "code",
   "execution_count": 5,
   "metadata": {},
   "outputs": [],
   "source": [
    "#Filtering out data\n",
    "filterData = data[(data['days_b_screening_arrest'] <= 30) & (data['days_b_screening_arrest'] >= -30)]"
   ]
  },
  {
   "cell_type": "code",
   "execution_count": 6,
   "metadata": {},
   "outputs": [
    {
     "data": {
      "text/plain": [
       "(6172, 52)"
      ]
     },
     "execution_count": 6,
     "metadata": {},
     "output_type": "execute_result"
    }
   ],
   "source": [
    "#checking if the data is the correct size\n",
    "filterData.shape"
   ]
  },
  {
   "cell_type": "markdown",
   "metadata": {},
   "source": [
    "### Task 1 \n",
    "First, we'll answer this parf of the [text's case study on the Propublica data](https://fairmlbook.org/classification.html#problem-set-criminal-justice-case-study), that is: \n",
    "> Plot the fraction of defendants recidivating within two years `two_year_recid == 1`) as a function of risk score (`decile_score`), for black defendants (`race == \"African-American\"`) and white defendants (`race == \"Caucasian\"`).\n",
    "\n",
    "To achieve this, first construct a data frame that contains only these three features, that is, **two_year_recid**, **decile_score**, and **race**. Make it a habit to inspect the head or tail of this data frame."
   ]
  },
  {
   "cell_type": "code",
   "execution_count": 7,
   "metadata": {},
   "outputs": [
    {
     "data": {
      "text/html": [
       "<div>\n",
       "<style scoped>\n",
       "    .dataframe tbody tr th:only-of-type {\n",
       "        vertical-align: middle;\n",
       "    }\n",
       "\n",
       "    .dataframe tbody tr th {\n",
       "        vertical-align: top;\n",
       "    }\n",
       "\n",
       "    .dataframe thead th {\n",
       "        text-align: right;\n",
       "    }\n",
       "</style>\n",
       "<table border=\"1\" class=\"dataframe\">\n",
       "  <thead>\n",
       "    <tr style=\"text-align: right;\">\n",
       "      <th></th>\n",
       "      <th>two_year_recid</th>\n",
       "      <th>decile_score</th>\n",
       "      <th>race</th>\n",
       "    </tr>\n",
       "    <tr>\n",
       "      <th>id</th>\n",
       "      <th></th>\n",
       "      <th></th>\n",
       "      <th></th>\n",
       "    </tr>\n",
       "  </thead>\n",
       "  <tbody>\n",
       "    <tr>\n",
       "      <th>1</th>\n",
       "      <td>0</td>\n",
       "      <td>1</td>\n",
       "      <td>Other</td>\n",
       "    </tr>\n",
       "    <tr>\n",
       "      <th>3</th>\n",
       "      <td>1</td>\n",
       "      <td>3</td>\n",
       "      <td>African-American</td>\n",
       "    </tr>\n",
       "    <tr>\n",
       "      <th>4</th>\n",
       "      <td>1</td>\n",
       "      <td>4</td>\n",
       "      <td>African-American</td>\n",
       "    </tr>\n",
       "    <tr>\n",
       "      <th>7</th>\n",
       "      <td>0</td>\n",
       "      <td>1</td>\n",
       "      <td>Other</td>\n",
       "    </tr>\n",
       "    <tr>\n",
       "      <th>8</th>\n",
       "      <td>1</td>\n",
       "      <td>6</td>\n",
       "      <td>Caucasian</td>\n",
       "    </tr>\n",
       "  </tbody>\n",
       "</table>\n",
       "</div>"
      ],
      "text/plain": [
       "    two_year_recid  decile_score              race\n",
       "id                                                \n",
       "1                0             1             Other\n",
       "3                1             3  African-American\n",
       "4                1             4  African-American\n",
       "7                0             1             Other\n",
       "8                1             6         Caucasian"
      ]
     },
     "execution_count": 7,
     "metadata": {},
     "output_type": "execute_result"
    }
   ],
   "source": [
    "\n",
    "chosen_cols = ['two_year_recid', 'decile_score', 'race']\n",
    "df = filterData[chosen_cols]\n",
    "df.shape\n",
    "df.head()\n"
   ]
  },
  {
   "cell_type": "markdown",
   "metadata": {},
   "source": [
    "Notice that each row falls in a **decile_score** bucket between 1 and 10. Now write the body of a function that given a dataframe, returns two lists (each of length 10). Each element of the first list corresponds to the number of people in the dataframe who have a specific decile score and for whom **two_year_recid == 1**. The corresponding element of the second list counts the total number of people with that decile score. Use your function from Lab 2 here."
   ]
  },
  {
   "cell_type": "code",
   "execution_count": 8,
   "metadata": {},
   "outputs": [],
   "source": [
    "### My answer\n",
    "def get_frequencies(df, num_buckets=10, count_criterion = 'two_year_recid'):\n",
    "    \"\"\"Returns list of lists. The first list is successes \n",
    "    for all buckets, the second one is total counts.\"\"\"\n",
    "    \n",
    "    frequencies = [[],[]]\n",
    "  \n",
    "    for i in range(num_buckets):\n",
    "        a = df[df['decile_score'] == i+1]\n",
    "        current_recid = a[count_criterion]\n",
    "        total = len(current_recid)\n",
    "        success = len(a[a[count_criterion] == 1])\n",
    "        frequencies[0].append(success)\n",
    "        frequencies[1].append(total)\n",
    "        \n",
    "    return frequencies"
   ]
  },
  {
   "cell_type": "markdown",
   "metadata": {},
   "source": [
    "**Q1** To make sure, we understand what's happening here. Which variable is `Y`, the target variable? What is $\\hat{Y}$?"
   ]
  },
  {
   "cell_type": "markdown",
   "metadata": {},
   "source": [
    "Now, we'll set up things to plot."
   ]
  },
  {
   "cell_type": "code",
   "execution_count": 9,
   "metadata": {},
   "outputs": [],
   "source": [
    "# Setting up things to plot\n",
    "\n",
    "races = ['African-American', 'Caucasian']\n",
    "styles = ['-', '--']\n",
    "colors = ['g', 'b']\n",
    "deciles = range(1, 10+1)\n",
    "pylab.rc('font',  size='17')\n",
    "pylab.rc('axes', labelsize='large')\n",
    "pylab.rc('lines', linewidth=3)"
   ]
  },
  {
   "cell_type": "markdown",
   "metadata": {},
   "source": [
    "Now, use the `pylab.plot` to plot the decile scores along the x-axis and the proportion of successes along the y-axis, for both races. Use the output of the `get_frequencies` function to do this. I have provided the entire machinery for the plotting for you. All you need to do is to use the `pylab.plot` function to achieve this. Fill in the details below. Compare to my plot."
   ]
  },
  {
   "cell_type": "code",
   "execution_count": 10,
   "metadata": {},
   "outputs": [
    {
     "data": {
      "text/plain": [
       "Text(0.5, 0, 'Score decile')"
      ]
     },
     "execution_count": 10,
     "metadata": {},
     "output_type": "execute_result"
    },
    {
     "data": {
      "image/png": "[encoded data removed]",
      "text/plain": [
       "<Figure size 432x360 with 1 Axes>"
      ]
     },
     "metadata": {
      "needs_background": "light"
     },
     "output_type": "display_data"
    }
   ],
   "source": [
    "\n",
    "\n",
    "#Setting up the figure, size and title.\n",
    "pylab.figure(1, figsize=(6, 5))\n",
    "pylab.title('Calibration')\n",
    "\n",
    "#For both races, plot the proportion \n",
    "# of successes versus the deciles\n",
    "\n",
    "\n",
    "for i in range(2):\n",
    "    race = races[i]\n",
    "    \n",
    "    ## fill in the details below\n",
    "    pylab.plot(what goes here?, what goes here?,  label=race, linestyle = styles[i], color = colors[i])\n",
    "\n",
    "#Setting up the legend, and other labels.\n",
    "\n",
    "pylab.legend(title=\"Race\")\n",
    "pylab.ylabel('Rate of positive outcomes')\n",
    "pylab.xlabel('Score decile')\n"
   ]
  },
  {
   "cell_type": "markdown",
   "metadata": {},
   "source": [
    "**Q2** What does this plot indicate? Try to express these plots in terms of probabilities. "
   ]
  },
  {
   "cell_type": "markdown",
   "metadata": {},
   "source": [
    "### Task 2 Now, we go on to the next part, which is examining the Separation criterion.\n",
    "\n",
    "> Plot the distribution of scores received by the positive class (recidivists) and the distribution of scores received by the negative class (non-recidivists) for black defendants and for white defendants.\n",
    "\n"
   ]
  },
  {
   "cell_type": "code",
   "execution_count": 12,
   "metadata": {},
   "outputs": [],
   "source": [
    "# new dataframe of black defendants only\n",
    "black = df[df['race']=='African-American']\n",
    "\n",
    "#new dataframe of white defendants only\n",
    "white = df[df['race']=='Caucasian']\n",
    "\n",
    "# get the frequency of black defendants who did recidivate by score \n",
    "# my function, replace with yours\n",
    "freq_black = get_frequencies(black, num_buckets=10, count_criterion = 'two_year_recid')\n",
    "\n",
    "# get the frequency  white defendants who did recidivate by score \n",
    "# my function call, replace with yours\n",
    "freq_white = get_frequencies(white, num_buckets=10, count_criterion = 'two_year_recid')\n",
    "\n"
   ]
  },
  {
   "cell_type": "markdown",
   "metadata": {},
   "source": [
    "Now use `pylab.plot` to plot the decile scores along the x-axis and the probability of receiving a score among recidivating and non-recidivating  defendants of each race on the y-axis. "
   ]
  },
  {
   "cell_type": "code",
   "execution_count": null,
   "metadata": {
    "scrolled": true
   },
   "outputs": [],
   "source": [
    "# \n",
    "pylab.figure(3, figsize=(6, 5))\n",
    "pylab.title('Separation')\n",
    "\n",
    "# my answer\n",
    "pylab.plot(fill in details here, fill in details here, '.-', label=\"Black, Recidivated\", linestyle = '--', color = \"red\")\n",
    "pylab.plot(fill in details, fill in details, '.-', label=\"Black, Non-recidivated\", linestyle = '--', color = \"blue\")\n",
    "pylab.plot(fill in details, fill in details,  label=\"White, Recidivated\", linestyle = ':', color = \"green\")\n",
    "pylab.plot(fill in details, fill in details, label=\"White, Non-recidivated\", linestyle = ':', color = \"black\")\n",
    "\n",
    "pylab.legend()\n",
    "\n",
    "pylab.ylabel('Probability of Scores')\n",
    "pylab.xlabel('Score decile')"
   ]
  },
  {
   "cell_type": "markdown",
   "metadata": {},
   "source": [
    "**Q3** Describe the separation criterion in your own words between the two groups we are considering. Does this plot indicate separation? Why or why not?"
   ]
  },
  {
   "cell_type": "markdown",
   "metadata": {},
   "source": [
    "### Part 3\n",
    "First, report the recidivism rate of defendants aged 25 or lower, and defendants aged 50 or higher. Note the stark difference between the two: younger defendants are far more likely to recidivate.\n"
   ]
  },
  {
   "cell_type": "code",
   "execution_count": 14,
   "metadata": {},
   "outputs": [
    {
     "name": "stdout",
     "output_type": "stream",
     "text": [
      "Recidivism rate for 25 and under: 0.5514705882352942\n",
      "Recidivism rate for 50 and over: 0.30469644902634596\n"
     ]
    }
   ],
   "source": [
    "df_25_under = filterData[filterData['age']<=25]\n",
    "df_50_over =  filterData[filterData['age']>=50]\n",
    "\n",
    "df_25_under_recid = filterData[(filterData['age']<=25) & (filterData['two_year_recid'] == 1)]\n",
    "df_50_over_recid = filterData[(filterData['age']>=50) & (filterData['two_year_recid'] == 1)]\n",
    "\n",
    "\n",
    "print(\"Recidivism rate for 25 and under:\", len(df_25_under_recid)/len(df_25_under))\n",
    "print(\"Recidivism rate for 50 and over:\", len(df_50_over_recid)/len(df_50_over))\n"
   ]
  },
  {
   "cell_type": "markdown",
   "metadata": {},
   "source": [
    "**Q4:** Now, answer the following questions to the best of your ability. These questions don't have a single correct answer - we will use your responses as an input to a class discussion on the relationship between auditing a scoring process for fairness and the underlying societal contexts in which they are used.\n",
    "\n",
    "> Suppose we are interested in taking a data-driven approach to changing the criminal justice system. Under a theory of incarceration as incapacitation (prevention of future crimes by removal of individuals from society), how might we act on the finding that younger defendants are more likely to reoffend?\n",
    "\n",
    "\n",
    "> How might we act on this finding under a rehabilitative approach to justice, in which we seek to find interventions that minimize a defendant’s risk of recidivism?\n",
    "\n",
    "> Under a retributive theory of justice, punishment is based in part on culpability, or blameworthiness; this in turn depends on how much control the defendant had over their actions. Under such a theory, how might we act on the finding that younger defendants are more likely to reoffend (and, more generally, commit offenses at all)?"
   ]
  },
  {
   "cell_type": "markdown",
   "metadata": {
    "collapsed": true
   },
   "source": [
    "### Part 4\n",
    "Work on this part after you have read the section on [Calibration and Sufficiency from the textbook](https://fairmlbook.org/classification.html#calibration-and-sufficiency). Refer to the plots you generated in Task 1 of this lab. Based on these plots, does the risk score satisfy sufficiency across racial groups in this dataset? This is somewhat subjective, since we want to allow for approximate equality between groups; justify your answer."
   ]
  },
  {
   "cell_type": "code",
   "execution_count": null,
   "metadata": {},
   "outputs": [],
   "source": []
  },
  {
   "cell_type": "markdown",
   "metadata": {},
   "source": [
    "### Part 5\n",
    "Refer to your lab 2 for this section. The plot generated in Task 3c of lab 2 is essentially an ROC plot. Explain why?"
   ]
  },
  {
   "cell_type": "code",
   "execution_count": null,
   "metadata": {},
   "outputs": [],
   "source": []
  }
 ],
 "metadata": {
  "kernelspec": {
   "display_name": "Python 3",
   "language": "python",
   "name": "python3"
  },
  "language_info": {
   "codemirror_mode": {
    "name": "ipython",
    "version": 3
   },
   "file_extension": ".py",
   "mimetype": "text/x-python",
   "name": "python",
   "nbconvert_exporter": "python",
   "pygments_lexer": "ipython3",
   "version": "3.7.3"
  }
 },
 "nbformat": 4,
 "nbformat_minor": 2
}
