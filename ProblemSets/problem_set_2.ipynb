{
 "cells": [
  {
   "cell_type": "markdown",
   "metadata": {},
   "source": [
    "## Problem Set 2, Feb 25th 2020.\n",
    "\n"
   ]
  },
  {
   "cell_type": "markdown",
   "metadata": {},
   "source": [
    "In today's lab you will get started on Problem Set 2 which is due March 3rd before lab, and write a blog-post associated with it (which is due March 10th.)\n",
    "\n",
    "For this problem set, you will reproduce a subset of results from the Dressel and Farid paper.\n",
    "[Here's a link to the paper.](https://advances.sciencemag.org/content/4/1/eaao5580.full)\n",
    "\n",
    "[Here's a link to the data they used.](https://farid.berkeley.edu/downloads/publications/scienceadvances17/), though you can continue to use the ProPublic data you've been using for your labs so far.\n",
    "\n",
    "You will need to consult your earlier labs, particularly Labs 4 and 5 for this problem set. Also, refer to this useful source on [logistic regression in Python.](https://towardsdatascience.com/logistic-regression-using-python-sklearn-numpy-mnist-handwriting-recognition-matplotlib-a6b31e2b166a)"
   ]
  },
  {
   "cell_type": "markdown",
   "metadata": {},
   "source": [
    "#### Problem 1\n",
    "For the first problem, you will reproduce column (B) of Table 2 in the paper (not including the figures in the square brackets). \n",
    "To do this, first figure out how you can set up `sklearn` to split a data set into training and testing sets, use the training set to create a model based on `LR_2`, and then compute the metrics listed in Table 2 on the testing set.\n",
    "Now repeat the process above 1000 times to get an average value for each of these metrics. Display the metrics in a table (Hint: Google for a neat feature in Pandas that helps you display dataframes as tables.)"
   ]
  },
  {
   "cell_type": "markdown",
   "metadata": {},
   "source": [
    "#### Problem 2\n",
    "Repeat problem 1 for the logistic regression model that uses 7 variables, reproducing Column A of Table 2."
   ]
  },
  {
   "cell_type": "markdown",
   "metadata": {},
   "source": [
    "#### Problem 3\n",
    "In the paper, when examining human decision-making about recidivism, Dressel and Farid state:\n",
    "> In conclusion, there is no sufficient evidence to suggest that including race has a significant impact on overall accuracy or fairness. The exclusion of race does not necessarily lead to the elimination of racial disparities in human recidivism prediction.\n",
    "\n",
    "Repeat problem 1 with a logistic regression model in which race **IS** a feature variable. List the metrics used in Table 2 for both these models, let's call them `LR_2_NORACE` and `LR_2_RACE` in a table."
   ]
  },
  {
   "cell_type": "markdown",
   "metadata": {},
   "source": [
    "#### Problem 4: This part is due March 10th.\n",
    "For this problem, you will write an acompanying Medium blog-post (Blos-Post 2) that compares the metrics from your table in Problem 3 using a statistical test. You will comment on whether there is a statistically significant difference between the False Positive Rates (and other metrics) for African-Americans and Caucasians using the `LR_2_NORACE` model, and then repeat the analysis for the `LR_2_RACE` model. You will also assess the difference between the metrics across the two different models to examine whether the exclusion of race leads to the elimination of racial disparities in human recidivism prediction. Finally, you will discuss what you believe are larger societal reasons for your results.\n",
    "\n",
    "The audience for your blog-post is your classmates and other Bucknell students with roughly your background. For this, you will first need to do independent study/review to understand what hypothesis testing is, what a p-value is, and what unpaired t-tests are. Please cite all the sources you consult for this blog-post. (Here is [one source](https://towardsdatascience.com/inferential-statistics-series-t-test-using-numpy-2718f8f9bf2f), for example).\n",
    " After this, use an unpaired t-test in Python to achieve the comparisons listed above. Write your blog-post by referring to the numbers in your Jupyter notebook.\n",
    " "
   ]
  },
  {
   "cell_type": "code",
   "execution_count": null,
   "metadata": {},
   "outputs": [],
   "source": []
  }
 ],
 "metadata": {
  "kernelspec": {
   "display_name": "Python 3",
   "language": "python",
   "name": "python3"
  },
  "language_info": {
   "codemirror_mode": {
    "name": "ipython",
    "version": 3
   },
   "file_extension": ".py",
   "mimetype": "text/x-python",
   "name": "python",
   "nbconvert_exporter": "python",
   "pygments_lexer": "ipython3",
   "version": "3.7.3"
  }
 },
 "nbformat": 4,
 "nbformat_minor": 2
}
